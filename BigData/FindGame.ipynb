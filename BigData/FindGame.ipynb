{
  "nbformat": 4,
  "nbformat_minor": 0,
  "metadata": {
    "colab": {
      "private_outputs": true,
      "provenance": [],
      "mount_file_id": "1BGpiWdknhmzCOuCv4ZMzOGkCJvl2l3bM",
      "authorship_tag": "ABX9TyMLzbwB1zqdi+U9wDCbl5be",
      "include_colab_link": true
    },
    "kernelspec": {
      "name": "python3",
      "display_name": "Python 3"
    },
    "language_info": {
      "name": "python"
    }
  },
  "cells": [
    {
      "cell_type": "markdown",
      "metadata": {
        "id": "view-in-github",
        "colab_type": "text"
      },
      "source": [
        "<a href=\"https://colab.research.google.com/github/marceloc4rdoso/Python/blob/main/FindGame.ipynb\" target=\"_parent\"><img src=\"https://colab.research.google.com/assets/colab-badge.svg\" alt=\"Open In Colab\"/></a>"
      ]
    },
    {
      "cell_type": "code",
      "source": [
        "#!pip install -q streamlit\n",
        "!pip install -q folium"
      ],
      "metadata": {
        "id": "bPTDEdYeg8-6"
      },
      "execution_count": null,
      "outputs": []
    },
    {
      "cell_type": "code",
      "execution_count": null,
      "metadata": {
        "id": "E5elSSita3sB"
      },
      "outputs": [],
      "source": [
        "import pandas as pd\n",
        "#import streamlit as st\n",
        "#import folium\n",
        "\n",
        "from google.colab import drive, output\n",
        "\n",
        "drive.mount('/content/drive')\n"
      ]
    },
    {
      "cell_type": "code",
      "source": [
        "df = pd.read_csv('/content/drive/MyDrive/BigData/games_banned.csv')\n",
        "#df"
      ],
      "metadata": {
        "id": "uOk-vNjAhWnM"
      },
      "execution_count": null,
      "outputs": []
    },
    {
      "cell_type": "code",
      "source": [
        "df = df[['Game', 'Country','Ban Category','Developer','Publisher','Genre']]\n",
        "display(df.head(5)), df.shape[1]\n",
        "\n",
        "#display(df.describe())\n"
      ],
      "metadata": {
        "id": "nAiUoJQEmgaK"
      },
      "execution_count": null,
      "outputs": []
    },
    {
      "cell_type": "code",
      "source": [
        "#Codigo que contém as funções do app\n",
        "def main():\n",
        "  print(\"Games Banidos pelo Mundo\")\n",
        "  menu()\n",
        "\n",
        "def menu():\n",
        "  game = input(\"[G] Para procurar por game.\\n[P] Para procurar por país.\\n\").upper()\n",
        "  if game == \"G\":\n",
        "    search_game()\n",
        "  if game == \"P\":\n",
        "    search_country()\n",
        "\n",
        "def search_game():\n",
        "  find_game = input(\"Procure um game: \").title()\n",
        "  result_find = df.loc[df['Game'].str.contains(find_game, case=False)]\n",
        "  display(result_find)\n",
        "  save_search()\n",
        "\n",
        "def search_country():\n",
        "  find_country = input(\"Procure por país: \").title()\n",
        "  result_find = df[df['Country'].str.contains(find_country, case=False)]\n",
        "  display(result_find)\n",
        "  save_search()\n",
        "def save_search():\n",
        "  save_search = input(\"Deseja salvar o que encontrou?\\n[S] Salvar\\n[Q] Sair sem salvar\\n\").upper()\n",
        "  match save_search:\n",
        "    case \"S\":\n",
        "      with pd.ExcelWriter('sample_search.xlsx') as writer:\n",
        "        result_find.to_excel(writer)\n",
        "    case \"Q\":\n",
        "      print(\"👍\")\n",
        "\n",
        "main()"
      ],
      "metadata": {
        "id": "aOCDDKZThxeg"
      },
      "execution_count": null,
      "outputs": []
    }
  ]
}