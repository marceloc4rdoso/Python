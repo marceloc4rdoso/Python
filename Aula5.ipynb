{
  "nbformat": 4,
  "nbformat_minor": 0,
  "metadata": {
    "colab": {
      "provenance": [],
      "include_colab_link": true
    },
    "kernelspec": {
      "name": "python3",
      "display_name": "Python 3"
    },
    "language_info": {
      "name": "python"
    }
  },
  "cells": [
    {
      "cell_type": "markdown",
      "metadata": {
        "id": "view-in-github",
        "colab_type": "text"
      },
      "source": [
        "<a href=\"https://colab.research.google.com/github/marceloc4rdoso/Python/blob/main/Aula5.ipynb\" target=\"_parent\"><img src=\"https://colab.research.google.com/assets/colab-badge.svg\" alt=\"Open In Colab\"/></a>"
      ]
    },
    {
      "cell_type": "markdown",
      "source": [
        "#ESTRUTURAS DE REPETIÇÃO"
      ],
      "metadata": {
        "id": "sre8dRgXBfqc"
      }
    },
    {
      "cell_type": "code",
      "execution_count": null,
      "metadata": {
        "colab": {
          "base_uri": "https://localhost:8080/"
        },
        "id": "dCwhBzQ_Bdp8",
        "outputId": "1b2f5b55-7e9a-4055-d5c0-6047ff425485"
      },
      "outputs": [
        {
          "output_type": "stream",
          "name": "stdout",
          "text": [
            "0 1 2 3 4 5 6 7 8 9 "
          ]
        }
      ],
      "source": [
        "#Usando loop while para imprimir de 0 a 9\n",
        "\n",
        "valor = 0\n",
        "while valor < 10:\n",
        "  print(valor, end = \" \")\n",
        "  valor = valor + 1"
      ]
    },
    {
      "cell_type": "code",
      "source": [
        "#Só entra no loop se for verdadeiro\n",
        "\n",
        "valor = 11\n",
        "while valor < 10:\n",
        "  print(valor, end = \" \")\n",
        "  valor = valor + 1"
      ],
      "metadata": {
        "id": "dlAYIDBbDQip"
      },
      "execution_count": null,
      "outputs": []
    },
    {
      "cell_type": "code",
      "source": [
        "#Usando o else depois de encerrar o loop\n",
        "\n",
        "x = 0\n",
        "while x < 10:\n",
        "  print(f\"O valor de x nessa interação é {x}\")\n",
        "  print(f\"O valor de x ainda é menor 10, somando 1 a x\")\n",
        "  x = x + 1\n",
        "else:\n",
        "  print(\"O loop acabou!\")"
      ],
      "metadata": {
        "id": "yRy9_UvWDp9d"
      },
      "execution_count": null,
      "outputs": []
    },
    {
      "cell_type": "code",
      "source": [
        "#Parar o código se encontrar o valor 4 - usando o break\n",
        "\n",
        "valor = 0\n",
        "while valor < 10:\n",
        "  if valor == 4:\n",
        "    break\n",
        "  else:\n",
        "    #nenhhuma ação\n",
        "    pass\n",
        "\n",
        "  print(valor)\n",
        "  valor = valor + 1"
      ],
      "metadata": {
        "id": "aM73uyJoEu0a"
      },
      "execution_count": null,
      "outputs": []
    },
    {
      "cell_type": "code",
      "source": [
        "#Removendo uma letra de um texto\n",
        "\n",
        "for letra in \"Python é xxxx incrível!\":\n",
        "  if letra == \"x\":\n",
        "    continue\n",
        "  print(letra, end = \" \")"
      ],
      "metadata": {
        "id": "h7LCmMBwFkpg"
      },
      "execution_count": null,
      "outputs": []
    },
    {
      "cell_type": "code",
      "source": [
        "#Média de sala de aula usando while\n",
        "\n",
        "soma_notas = 0\n",
        "qttd_notas = 0\n",
        "\n",
        "while True:\n",
        "  nota = float(input(\"Informe a nota: (-1 para finalizar): \"))\n",
        "  if nota == -1:\n",
        "    break\n",
        "  soma_notas = soma_notas + nota\n",
        "  qttd_notas = qttd_notas + 1\n",
        "\n",
        "if qttd_notas > 0:\n",
        "  media = soma_notas / qttd_notas\n",
        "  print(f\"Quantitades de notas informadas: {qttd_notas}\")\n",
        "  print(f\"A média da turma é: {media:.2f}\")\n",
        "else:\n",
        "  print(f\"Nenhuma nota informada!\")"
      ],
      "metadata": {
        "id": "pI27tcZnGhDp"
      },
      "execution_count": null,
      "outputs": []
    },
    {
      "cell_type": "code",
      "source": [
        "while True:\n",
        "  resposta = input(\"Você gosta de Python? \").upper()\n",
        "  if resposta == \"SIM\":\n",
        "    print(\"Resposta correta!\\n\")\n",
        "    break\n",
        "  else:\n",
        "    print(\"Resposta incorreta!\\nTente novamente!\\n\")"
      ],
      "metadata": {
        "id": "ZNNrxryZJood"
      },
      "execution_count": null,
      "outputs": []
    },
    {
      "cell_type": "markdown",
      "source": [
        "#EXERCÍCIOS DE FIXAÇÃO"
      ],
      "metadata": {
        "id": "8yWYl3dBeAKw"
      }
    },
    {
      "cell_type": "code",
      "source": [
        "#1 - Faça um programa que peça uma nota, entre zero e dez. Mostre uma mensagem caso o valor seja inválido e continue pedindo até que o usuário informe um valor válido.\n",
        "\n",
        "while True:\n",
        "  nota = float(input(\"Insira uma nota (entre 0 e 10): \"))\n",
        "  if nota >=0 and nota <= 10:\n",
        "    print(f\"Nota válida: {nota}!\\n\")\n",
        "    break\n",
        "  else:\n",
        "    print(\"Valor inválido!\\nTente novamente!\\n\")"
      ],
      "metadata": {
        "id": "0bTp2uj9Omaa"
      },
      "execution_count": null,
      "outputs": []
    },
    {
      "cell_type": "code",
      "source": [
        "#2 - Faça um programa que calcule e mostre a média aritmética de N notas.\n",
        "\n",
        "soma_notas = 0\n",
        "qttd_notas = 0\n",
        "\n",
        "while True:\n",
        "  nota = float(input(\"Informe a nota: \"))\n",
        "  pergunta = input(\"Deseja continuar (SIM ou NÃO)? \").upper()\n",
        "  qttd_notas = qttd_notas + 1\n",
        "  soma_notas = soma_notas + nota\n",
        "  if pergunta == \"NÃO\":\n",
        "    break\n",
        "\n",
        "if qttd_notas > 0:\n",
        "  media = soma_notas / qttd_notas\n",
        "  print(f\"Quantitades de notas informadas: {qttd_notas}\")\n",
        "  print(f\"A média da turma é: {media:.2f}\")\n",
        "else:\n",
        "  print(f\"Nenhuma nota informada!\")"
      ],
      "metadata": {
        "id": "sRNoUa3ePOxV"
      },
      "execution_count": null,
      "outputs": []
    },
    {
      "cell_type": "code",
      "source": [
        "#2 - Faça um programa que calcule e mostre a média aritmética de N notas. (RESPOSTA GABRIEL)\n",
        "\n",
        "notas = 0\n",
        "continuar = \"SIM\"\n",
        "contador = 0\n",
        "\n",
        "while continuar == \"SIM\":\n",
        "  nota = float(input(\"Informe uma nota: \"))\n",
        "  notas += nota\n",
        "  contador += 1\n",
        "  continuar = input(\"Deseja continuar (SIM ou NÃO)? \").upper()\n",
        "print(f\"A média das notas é: {notas/contador:.1f}\")"
      ],
      "metadata": {
        "id": "c8jddZxg3oHw"
      },
      "execution_count": null,
      "outputs": []
    },
    {
      "cell_type": "code",
      "source": [
        "#3 - Faça um programa que calcule o número médio de alunos por turma. Para isto, peça a quantidade de turmas e a quantidade de alunos para cada turma.\n",
        "#As turmas não podem ter mais de 40 alunos.\n",
        "\n",
        "qttd_turmas = int(input(\"\\nQual a quantidade de turmas? \"))\n",
        "contador = 0\n",
        "soma = 0\n",
        "\n",
        "while contador < qttd_turmas:\n",
        "  qttd_aluno = int(input(f\"\\nQual a quantidade de alunos na {contador+1}ª turma: \"))\n",
        "  if qttd_aluno <=40:\n",
        "    contador +=1\n",
        "    print(\"Valor inserido corretamente!\")\n",
        "    soma += qttd_aluno\n",
        "  else:\n",
        "    print(\"O número de alunos deve ser menor ou igual a 40\")\n",
        "\n",
        "print(f\"A média de alunos por turma é: {qttd_aluno/qttd_turmas:.2f}\")\n"
      ],
      "metadata": {
        "id": "ObzHb7V5Pnpa"
      },
      "execution_count": null,
      "outputs": []
    },
    {
      "cell_type": "code",
      "source": [
        "#4 - Crie um algoritmo que receba um número, conte o número total de dígitos e mostre o resultado. Por exemplo, se o número é 201 então a saída deve ser 3.\n",
        "\n",
        "num = int(input(\"Insira um número: \"))\n",
        "\n",
        "contador = 0\n",
        "while num != 0:\n",
        "  num = num // 10 #Remove o último número\n",
        "  contador += 1\n",
        "print(f\"Total de digitos é: {contador}\")\n",
        "\n"
      ],
      "metadata": {
        "id": "L_rb-1rWKxCI"
      },
      "execution_count": null,
      "outputs": []
    },
    {
      "cell_type": "code",
      "source": [
        "#5 - Crie um programa em Linguagem Python que solicite a senha de um usuário e depois, peça pra digitar novamente até que as duas senhas sejam correspondentes.\n",
        "\n",
        "while True:\n",
        "  senha1 = input(\"Digite a senha:\")\n",
        "  senha2 = input(\"Confirme a senha: \")\n",
        "  if senha1 != senha2:\n",
        "    print(\"As senhas não correspondem. Digite novamente!\")\n",
        "  else:\n",
        "    print(\"As senhas correspondem! Acesso liberado!\")\n",
        "    break"
      ],
      "metadata": {
        "id": "NzaT45qiLApc"
      },
      "execution_count": null,
      "outputs": []
    },
    {
      "cell_type": "code",
      "source": [
        "#6 - Faça um programa em Python que leia n números inteiros a partir do teclado, até que o usuário digite 0. Ao final, mostre a soma de todos os números digitados.\n",
        "\n",
        "soma_num = 0\n",
        "\n",
        "while True:\n",
        "  num = int(input(\"Informe um número (para parar digite 0): \"))\n",
        "  soma_num = soma_num + num\n",
        "  if num == 0:\n",
        "    break\n",
        "print(f\"A soma de todos os números digitados é: {soma_num}\")"
      ],
      "metadata": {
        "id": "IsJhOspgLMhU"
      },
      "execution_count": null,
      "outputs": []
    },
    {
      "cell_type": "code",
      "source": [
        "#Exercício Bônus - TABUADA\n",
        "\n",
        "#Faça um programa que solicite ao usuário um número que ele queira treinar a tabuada. Você irá solicitar ao mesmo tempo a resposta do cálcuo do número informado multiplicado por 1,2 até 10. A cada resposta você deverá\n",
        "#validar e imprimir: \"CORRETO\" ou \"QUE PENA, VOCÊ ERROU. O VALOR CORRETO É X\". No lugar de X coloque o valor correto. Ao final imprima: \"TOTAL DE ACERTOS: Y\" e \"TOTAL DE ERROS: Z\", onde \"Y\" deverá ser o total de acertos\n",
        "#1e \"Z\" o total de erros. Ao final da sequência deve-se perguntar se deseja começar de novo'''\n",
        "\n",
        "\n",
        "while True:\n",
        "  numero = int(input(\"INFORME O NÚMERO PARA TREINAR A TABUADA: \"))\n",
        "  acertos = 0\n",
        "  erros = 0\n",
        "  for i in range(1, 11):\n",
        "    resposta = int(input(f\"{numero} X {i}: \"))\n",
        "    resultado = numero * i\n",
        "    if resposta == resultado:\n",
        "      print(\"CORRETO\")\n",
        "      acertos +=1\n",
        "    else:\n",
        "      print(f\"QUE PENA, VOCÊ ERROU. O VALOR CORRETO É {resultado}\")\n",
        "      erros += 1\n",
        "\n",
        "  print(f\"TOTAL DE ACERTOS: {acertos}\")\n",
        "  print(f\"TOTAL DE ERROS: {erros}\")\n",
        "\n",
        "  reiniciar = input(\"DESEJA COMEÇAR DE NOVO? (SIM / NÃO): \").upper()\n",
        "  if reiniciar != 'SIM':\n",
        "    break"
      ],
      "metadata": {
        "id": "E4693oJl94Pl"
      },
      "execution_count": null,
      "outputs": []
    }
  ]
}