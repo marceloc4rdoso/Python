{
  "nbformat": 4,
  "nbformat_minor": 0,
  "metadata": {
    "colab": {
      "provenance": [],
      "authorship_tag": "ABX9TyMaoG1SoC7fVHP5Tcv4aH3g",
      "include_colab_link": true
    },
    "kernelspec": {
      "name": "python3",
      "display_name": "Python 3"
    },
    "language_info": {
      "name": "python"
    }
  },
  "cells": [
    {
      "cell_type": "markdown",
      "metadata": {
        "id": "view-in-github",
        "colab_type": "text"
      },
      "source": [
        "<a href=\"https://colab.research.google.com/github/marceloc4rdoso/Python/blob/main/Aula_04_20231019.ipynb\" target=\"_parent\"><img src=\"https://colab.research.google.com/assets/colab-badge.svg\" alt=\"Open In Colab\"/></a>"
      ]
    },
    {
      "cell_type": "markdown",
      "source": [
        "#Laços de repetição\n",
        "- FOR\n",
        "\n",
        "Ex:\n",
        "- for referência in sequência:\n",
        "    bloco do código"
      ],
      "metadata": {
        "id": "r118doV60mZf"
      }
    },
    {
      "cell_type": "code",
      "execution_count": null,
      "metadata": {
        "id": "9o-dDpDXv-pi"
      },
      "outputs": [],
      "source": [
        "#For : Para cada numero exiba um valor\n",
        "for numero in [1,2,3,4,5,6,7,8,9,10]:\n",
        "  print(numero)"
      ]
    },
    {
      "cell_type": "code",
      "source": [
        "#Criando uma lista\n",
        "notas = [10,9,7,8,7]\n",
        "for numero in notas:\n",
        "  print(numero)"
      ],
      "metadata": {
        "id": "2ct-jJz9KES7"
      },
      "execution_count": null,
      "outputs": []
    },
    {
      "cell_type": "code",
      "source": [
        "#Usando range\n",
        "for i in range(7):\n",
        "  print(\"Gol da Alemanha :(\")\n",
        "print(\"Gol do Brasil\")"
      ],
      "metadata": {
        "id": "ksRkW37rKf70"
      },
      "execution_count": null,
      "outputs": []
    },
    {
      "cell_type": "code",
      "source": [
        "#Usando range\n",
        "for numero in range(3):\n",
        "  print(numero)"
      ],
      "metadata": {
        "id": "rhaIfyMaMa49"
      },
      "execution_count": null,
      "outputs": []
    },
    {
      "cell_type": "code",
      "source": [
        "#USando range\n",
        "for numero in range(0,11,2):\n",
        "  print(numero)"
      ],
      "metadata": {
        "id": "d0ri_j9RMv8w"
      },
      "execution_count": null,
      "outputs": []
    },
    {
      "cell_type": "code",
      "source": [
        "#Usando if dentro do for\n",
        "for numero in [1,10,20,30,40,50]:\n",
        "  if numero == 30:\n",
        "    continue\n",
        "  print(numero)"
      ],
      "metadata": {
        "id": "AOjMDWh6UaKU"
      },
      "execution_count": null,
      "outputs": []
    },
    {
      "cell_type": "code",
      "source": [
        "#Usando if dentro do FOR\n",
        "\n",
        "lista = [1,2,3,4,5,6,7,8,9,10]\n",
        "#Um loop com if\n",
        "for i in lista:\n",
        "  if i % 2 == 0:\n",
        "    print(i)"
      ],
      "metadata": {
        "colab": {
          "base_uri": "https://localhost:8080/"
        },
        "id": "B-BdQGg3VaDh",
        "outputId": "464a4997-7cf7-4ce0-a781-2c404b607593"
      },
      "execution_count": null,
      "outputs": [
        {
          "output_type": "stream",
          "name": "stdout",
          "text": [
            "2\n",
            "4\n",
            "6\n",
            "8\n",
            "10\n"
          ]
        }
      ]
    },
    {
      "cell_type": "code",
      "source": [
        "#Usando if dentro do FOR\n",
        "\n",
        "#Um loop com else\n",
        "for i in [1,2,3,4,5,6,7,8,9,10]:\n",
        "  print(i)\n",
        "else:\n",
        "  print(\"Acabou o loop!\")\n"
      ],
      "metadata": {
        "id": "cLLkhHg9V_TG"
      },
      "execution_count": null,
      "outputs": []
    },
    {
      "cell_type": "code",
      "source": [
        "#Usando o Break\n",
        "\n",
        "for i  in range(100):\n",
        "  print(\"Gol da Alemanha :(\")\n",
        "  if i == 6:\n",
        "    break\n",
        "print(\"Chega de Gol\")\n",
        "print(\"Gol do Brasil\")"
      ],
      "metadata": {
        "id": "l9r1JSXSW0i0"
      },
      "execution_count": null,
      "outputs": []
    },
    {
      "cell_type": "code",
      "source": [
        "#\n",
        "numeros = [1,2,4,5,8,10,12,13,15,20]\n",
        "for numero in numeros:\n",
        "  if numero == 10:\n",
        "    break\n",
        "  print(f\"Numero é: {numero}\")\n",
        "else:\n",
        "  print(\"Acabou!!\")"
      ],
      "metadata": {
        "id": "KylxPlo5YG94"
      },
      "execution_count": null,
      "outputs": []
    },
    {
      "cell_type": "code",
      "source": [
        "#Criar um programa que mostre a média da sala, com base na quantidade de alunos\n",
        "\n",
        "qtd_alunos = int(input(\"Digite a qtd de alunos na sala: \"))\n",
        "soma = float(0.0)\n",
        "#Loop para pegar a nota dos alunos\n",
        "for i in range(1,qtd_alunos + 1):\n",
        "  nota = float(input(\"Digite a nota do aluno: \"))\n",
        "  # soma começa com 0\n",
        "  soma = soma + nota\n",
        "  # 0  =  0   +  10\n",
        "  # 10 = 10   +   5\n",
        "  # 15 = 15   +   5\n",
        "  # 20\n",
        "print(f\"A média é {soma/qtd_alunos:.2f}\")"
      ],
      "metadata": {
        "id": "FIukETHhaDqJ"
      },
      "execution_count": null,
      "outputs": []
    },
    {
      "cell_type": "code",
      "source": [
        "#Somando número do intervalo selecionado\n",
        "\n",
        "inicio = int(input(\"Digite o primeiro número. \"))\n",
        "fim = int(input(\"Digite o número final. \"))\n",
        "salto = int(input(\"Digite o salto. \"))\n",
        "texto = \"Calculo: \"\n",
        "soma = 0\n",
        "\n",
        "#criando o loop\n",
        "\n",
        "for numero in range(inicio,fim,salto):\n",
        "  soma = soma + numero\n",
        "  texto = texto + str(numero)\n",
        "  if numero >= 50:\n",
        "    texto = texto + \"\\nPassou de 50\"\n",
        "    break\n",
        "  if numero != fim - salto:\n",
        "    texto = texto + \" + \"\n",
        "print(texto)\n",
        "print(f\"A soma dos número é: {soma}\")\n",
        "\n"
      ],
      "metadata": {
        "colab": {
          "base_uri": "https://localhost:8080/"
        },
        "id": "9eErbaKldld-",
        "outputId": "3195361d-c8ff-4ccc-cc34-6b2537e7535f"
      },
      "execution_count": null,
      "outputs": [
        {
          "output_type": "stream",
          "name": "stdout",
          "text": [
            "Digite o primeiro número. 3\n",
            "Digite o número final. 30\n",
            "Digite o salto. 3\n",
            "Calculo: 3 + 6 + 9 + 12 + 15 + 18 + 21 + 24 + 27\n",
            "A soma dos número é: 135\n"
          ]
        }
      ]
    }
  ]
}