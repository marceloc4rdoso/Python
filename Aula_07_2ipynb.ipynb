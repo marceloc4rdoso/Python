{
  "cells": [
    {
      "cell_type": "markdown",
      "metadata": {
        "id": "view-in-github",
        "colab_type": "text"
      },
      "source": [
        "<a href=\"https://colab.research.google.com/github/marceloc4rdoso/Python/blob/main/Aula_07_2ipynb.ipynb\" target=\"_parent\"><img src=\"https://colab.research.google.com/assets/colab-badge.svg\" alt=\"Open In Colab\"/></a>"
      ]
    },
    {
      "cell_type": "markdown",
      "metadata": {
        "id": "JUqA_az7mBnl"
      },
      "source": [
        "#EXERCÍCIOS 2"
      ]
    },
    {
      "cell_type": "markdown",
      "metadata": {
        "id": "gpIjiVSNoz_M"
      },
      "source": [
        "#2\n",
        "##Mega Sena\n",
        "Crie um programa que vai gerar cinco números aleatórios e colocar em uma tupla. Depois disoo, mostre a listagem de números gerados e também indique o menor e o maior valor que estão na tupla.\n"
      ]
    },
    {
      "cell_type": "code",
      "execution_count": null,
      "metadata": {
        "id": "PhcLitP6nb_F"
      },
      "outputs": [],
      "source": [
        "import random\n",
        "\n",
        "sorteados = []\n",
        "for _ in range(6): # O underline indica que a variávei (que geralmente é i) não será usada para nada.\n",
        "  sorteados.append(random.randint(1,60)) #pode jogar o random direto da funão append\n",
        "#convertendo a lista para tupla\n",
        "sorteados = tuple(sorteados)\n",
        "print(f\"Resultado do sorteio: {sorteados}\")\n",
        "print(f\"Número maior: {min(sorteados)}\")\n",
        "print(f\"Numero menor: {max(sorteados)}\")\n",
        "for numero in sorteados:\n",
        "  print(numero, end=\" \")\n",
        "print(type(sorteados))"
      ]
    },
    {
      "cell_type": "markdown",
      "metadata": {
        "id": "ycTP2EdxuG4m"
      },
      "source": [
        "#3"
      ]
    },
    {
      "cell_type": "code",
      "execution_count": null,
      "metadata": {
        "colab": {
          "base_uri": "https://localhost:8080/"
        },
        "id": "lJQM8Mo7uZtu",
        "outputId": "4d47286f-2d6d-4c80-be8b-85df8398b7d9"
      },
      "outputs": [
        {
          "name": "stdout",
          "output_type": "stream",
          "text": [
            "As vogais de APRENDER são ['A', 'E', 'E']\n",
            "As vogais de PROGRAMAR são ['O', 'A', 'A']\n",
            "As vogais de LINGUAGEM são ['I', 'U', 'A', 'E']\n",
            "As vogais de PYTHON são ['O']\n",
            "As vogais de CURSO são ['U', 'O']\n",
            "As vogais de GRATIS são ['A', 'I']\n",
            "As vogais de ESTUDAR são ['E', 'U', 'A']\n",
            "As vogais de PRATICAR são ['A', 'I', 'A']\n",
            "As vogais de TRABALHAR são ['A', 'A', 'A']\n",
            "As vogais de PROGRAMADOR são ['O', 'A', 'A', 'O']\n"
          ]
        }
      ],
      "source": [
        "palavras = (\"APRENDER\",\"PROGRAMAR\",\"LINGUAGEM\",\"PYTHON\",\"CURSO\",\"GRATIS\",\"ESTUDAR\",\"PRATICAR\",\"TRABALHAR\",\"PROGRAMADOR\")\n",
        "\n",
        "for palavra in palavras:\n",
        "  vogal = []\n",
        "  for letra in palavra:\n",
        "    #if letra == \"A\" or letra == \"E\" or letra == \"I\" or letra == \"O\" or letra == \"U\":\n",
        "    if letra in \"AEIOU\":\n",
        "      # vogal += letra Alternativa\n",
        "      vogal.append(letra)\n",
        "  #print(vogal, end=\" \")\n",
        "  #print(palavra)\n",
        "  print(f\"As vogais de {palavra} são {vogal}\")"
      ]
    },
    {
      "cell_type": "markdown",
      "metadata": {
        "id": "MAYMEgg0uliE"
      },
      "source": [
        "# 1 Exercício - Dicionário"
      ]
    },
    {
      "cell_type": "code",
      "execution_count": null,
      "metadata": {
        "colab": {
          "background_save": true,
          "base_uri": "https://localhost:8080/"
        },
        "id": "QRh6KDwGulHt",
        "outputId": "5d43418a-ac84-4772-f1ea-36ca00cbce53"
      },
      "outputs": [
        {
          "name": "stdout",
          "output_type": "stream",
          "text": [
            "Carro não está na lista de produtos.\n",
            "O Carro tem o valor de R$ 50000.00\n",
            "{'celular': 1500, 'câmera': 1000, 'fone de ouvido': 800, 'monitor': 2000, 'carro': 50000.0} | "
          ]
        }
      ],
      "source": [
        "lista_produtos = {'celular': 1500,'câmera':1000,'fone de ouvido':800,'monitor':2000}\n",
        "\n",
        "while True:\n",
        "  busca_produto = input(\"Pesquise um produto: \\nDigite um nome ou\\nTodos pata lista completa ou\\nFim para sair \").lower()\n",
        "  if busca_produto ==\"todos\":\n",
        "    print(lista_produtos)\n",
        "  if busca_produto == \"fim\":\n",
        "    print(\"Obrigado por nos consultar!\")\n",
        "    break\n",
        "  if busca_produto in lista_produtos:\n",
        "    print(f\"O {busca_produto.title()} tem o valor de R$ {lista_produtos[busca_produto]:.2f}\")\n",
        "  else:\n",
        "    print(f\"{busca_produto.title()} não está na lista de produtos.\")\n",
        "    cadastro = input(\"Deseja cadastrar? (SIM ou NÃO)\").lower()\n",
        "    if cadastro == \"sim\":\n",
        "      valor = float(input(f\"Digite o valor de {busca_produto.title()} \"))\n",
        "      lista_produtos[busca_produto] = valor\n",
        "      print(f\"O {busca_produto.title()} tem o valor de R$ {lista_produtos[busca_produto]:.2f}\")\n",
        "      print(lista_produtos, end=\" | \")\n",
        "    if cadastro == \"não\" or cadastro == \"nao\":\n",
        "      print(\"Obrigado por nos consultar!\")\n",
        "\n",
        "\n",
        "\n",
        "\n"
      ]
    },
    {
      "cell_type": "markdown",
      "metadata": {
        "id": "0V1PJiV1_Lrt"
      },
      "source": [
        "# 2 Exercício - Dicionário"
      ]
    },
    {
      "cell_type": "code",
      "execution_count": null,
      "metadata": {
        "colab": {
          "base_uri": "https://localhost:8080/"
        },
        "id": "yqwYSqCN_Pt2",
        "outputId": "812d3882-213c-4244-b10e-2fe48b1a9c21"
      },
      "outputs": [
        {
          "name": "stdout",
          "output_type": "stream",
          "text": [
            "Nome do jogado: Calleri\n",
            "Quantas partidas: Calleri? 3\n",
            "Quantos gols na 1ª partida? 5\n",
            "Quantos gols na 2ª partida? 2\n",
            "Quantos gols na 3ª partida? 3\n",
            "O campo Nome tem o Calleri\n",
            "O campo Gols tem o [5, 2, 3]\n",
            "O campo Total tem o 10\n",
            "O campo Media tem o 3.3333333333333335\n",
            "O campo Minimo tem o 2\n",
            "O campo Maximo tem o 5\n"
          ]
        }
      ],
      "source": [
        "jogador = {} # dicionário vazio\n",
        "gols = [] # lista vazia\n",
        "#Colocando nome no dicionário\n",
        "jogador ['nome'] = input(\"Nome do jogado: \")\n",
        "total_partidas = int(input(f\"Quantas partidas: {jogador['nome']}? \"))\n",
        "\n",
        "for partida in range(total_partidas):\n",
        "  gols.append(int(input(f\"Quantos gols na {partida + 1}ª partida? \")))\n",
        "  jogador['gols'] = gols[:]\n",
        "  jogador['total'] = sum(gols)\n",
        "  jogador['media'] = sum(gols) / total_partidas\n",
        "  jogador['minimo'] = min(gols)\n",
        "  jogador['maximo'] = max(gols)\n",
        "for chave, valor in jogador.items():\n",
        "  print(f\"O campo {chave.title()} tem o {valor}\")\n",
        "\n"
      ]
    }
  ],
  "metadata": {
    "colab": {
      "provenance": [],
      "authorship_tag": "ABX9TyOROweeDTtgh2ztKBXC7uiW",
      "include_colab_link": true
    },
    "kernelspec": {
      "display_name": "Python 3",
      "name": "python3"
    },
    "language_info": {
      "name": "python"
    }
  },
  "nbformat": 4,
  "nbformat_minor": 0
}